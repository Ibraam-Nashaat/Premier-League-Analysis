{
 "cells": [
  {
   "attachments": {},
   "cell_type": "markdown",
   "metadata": {},
   "source": [
    "<h1><center>CHOOSING BEST MANAGER<center></h1>"
   ]
  },
  {
   "attachments": {},
   "cell_type": "markdown",
   "metadata": {},
   "source": [
    "<h3>Importing Packages<h3>"
   ]
  },
  {
   "cell_type": "code",
   "execution_count": 78,
   "metadata": {},
   "outputs": [],
   "source": [
    "import numpy as np\n",
    "import pandas as pd"
   ]
  },
  {
   "cell_type": "code",
   "execution_count": 79,
   "metadata": {},
   "outputs": [
    {
     "data": {
      "text/html": [
       "<div>\n",
       "<style scoped>\n",
       "    .dataframe tbody tr th:only-of-type {\n",
       "        vertical-align: middle;\n",
       "    }\n",
       "\n",
       "    .dataframe tbody tr th {\n",
       "        vertical-align: top;\n",
       "    }\n",
       "\n",
       "    .dataframe thead th {\n",
       "        text-align: right;\n",
       "    }\n",
       "</style>\n",
       "<table border=\"1\" class=\"dataframe\">\n",
       "  <thead>\n",
       "    <tr style=\"text-align: right;\">\n",
       "      <th></th>\n",
       "      <th>Year</th>\n",
       "      <th>Manager</th>\n",
       "      <th>Club</th>\n",
       "    </tr>\n",
       "  </thead>\n",
       "  <tbody>\n",
       "    <tr>\n",
       "      <th>0</th>\n",
       "      <td>2022</td>\n",
       "      <td>Mikel Arteta</td>\n",
       "      <td>Arsenal</td>\n",
       "    </tr>\n",
       "    <tr>\n",
       "      <th>1</th>\n",
       "      <td>2022</td>\n",
       "      <td>Unai Emery</td>\n",
       "      <td>Aston Villa</td>\n",
       "    </tr>\n",
       "    <tr>\n",
       "      <th>2</th>\n",
       "      <td>2022</td>\n",
       "      <td>Aaron Danks</td>\n",
       "      <td>Aston Villa</td>\n",
       "    </tr>\n",
       "    <tr>\n",
       "      <th>3</th>\n",
       "      <td>2022</td>\n",
       "      <td>Steven Gerrard</td>\n",
       "      <td>Aston Villa</td>\n",
       "    </tr>\n",
       "    <tr>\n",
       "      <th>4</th>\n",
       "      <td>2022</td>\n",
       "      <td>Gary O'Neil</td>\n",
       "      <td>Bournemouth</td>\n",
       "    </tr>\n",
       "  </tbody>\n",
       "</table>\n",
       "</div>"
      ],
      "text/plain": [
       "   Year         Manager         Club\n",
       "0  2022    Mikel Arteta      Arsenal\n",
       "1  2022      Unai Emery  Aston Villa\n",
       "2  2022     Aaron Danks  Aston Villa\n",
       "3  2022  Steven Gerrard  Aston Villa\n",
       "4  2022     Gary O'Neil  Bournemouth"
      ]
     },
     "execution_count": 79,
     "metadata": {},
     "output_type": "execute_result"
    }
   ],
   "source": [
    "df = pd.read_csv( \"Managers.csv\" )\n",
    "df.head()\n",
    "# x = data.where(data[ Year ] == '2017')"
   ]
  },
  {
   "cell_type": "code",
   "execution_count": 80,
   "metadata": {},
   "outputs": [
    {
     "name": "stdout",
     "output_type": "stream",
     "text": [
      "{2017: [{'Brighton and Hove Albion': 'Chris Hughton'}, {'Huddersfield Town': 'David Wagner'}, {'Newcastle United': 'Rafael Benítez'}], 2018: [{'Cardiff City': 'Neil Warnock'}, {'Fulham': 'Scott Parker'}, {'Fulham': 'Claudio Ranieri'}, {'Fulham': 'Slavisa Jokanovic'}, {'Wolverhampton Wanderers': 'Nuno Espírito Santo'}], 2019: [{'Aston Villa': 'Dean Smith'}, {'Norwich City': 'Daniel Farke'}, {'Sheffield United': 'Chris Wilder'}], 2020: [{'Fulham': 'Scott Parker'}, {'Leeds United': 'Marcelo Bielsa'}, {'West Bromwich Albion': 'Sam Allardyce'}, {'West Bromwich Albion': 'Slaven Bilic'}], 2021: [{'Brentford': 'Thomas Frank'}, {'Norwich City': 'Dean Smith'}, {'Norwich City': 'Daniel Farke'}, {'Watford': 'Roy Hodgson'}, {'Watford': 'Claudio Ranieri'}, {'Watford': 'Francisco Javier Muñoz Llompart'}], 2022: [{'Bournemouth': \"Gary O'Neil\"}, {'Bournemouth': 'Scott Parker'}, {'Fulham': 'Marco Silva'}, {'Nottingham Forest': 'Steve Cooper'}]}\n"
     ]
    }
   ],
   "source": [
    "promotedTeams = {}\n",
    "years = [ 2017,  2018 ,  2019 ,  2020 ,  2021 ,  2022 ]\n",
    "\n",
    "\n",
    "for year in years:\n",
    "    promotedTeams.update({year: []})\n",
    "    for _, thisYear in df[df[\"Year\"] == year ].iterrows():\n",
    "        teamExist = False\n",
    "        for _,previousYear in df[df[\"Year\"] == year-1].iterrows():\n",
    "            if(thisYear[\"Club\"] == previousYear[\"Club\"]):\n",
    "                teamExist = True\n",
    "                break\n",
    "        if(not teamExist):\n",
    "            promotedTeams[year].append({thisYear[\"Club\"]: thisYear[\"Manager\"]})\n",
    "           \n",
    "\n",
    "print(promotedTeams)\n"
   ]
  }
 ],
 "metadata": {
  "kernelspec": {
   "display_name": "Python 3",
   "language": "python",
   "name": "python3"
  },
  "language_info": {
   "codemirror_mode": {
    "name": "ipython",
    "version": 3
   },
   "file_extension": ".py",
   "mimetype": "text/x-python",
   "name": "python",
   "nbconvert_exporter": "python",
   "pygments_lexer": "ipython3",
   "version": "3.10.6"
  },
  "orig_nbformat": 4,
  "vscode": {
   "interpreter": {
    "hash": "e7370f93d1d0cde622a1f8e1c04877d8463912d04d973331ad4851f04de6915a"
   }
  }
 },
 "nbformat": 4,
 "nbformat_minor": 2
}
