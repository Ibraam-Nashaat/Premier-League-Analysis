{
 "cells": [
  {
   "attachments": {},
   "cell_type": "markdown",
   "metadata": {},
   "source": [
    "<h1><center>CHOOSING BEST MANAGER<center></h1>"
   ]
  },
  {
   "attachments": {},
   "cell_type": "markdown",
   "metadata": {},
   "source": [
    "<h4>Importing Packages<h4>"
   ]
  },
  {
   "cell_type": "code",
   "execution_count": 38,
   "metadata": {},
   "outputs": [],
   "source": [
    "import numpy as np\n",
    "import pandas as pd"
   ]
  },
  {
   "attachments": {},
   "cell_type": "markdown",
   "metadata": {},
   "source": [
    "<h5 style=\"color:yellow\"><center>The idea is to get all the promoted teams and their managers in the last 5 seasons and then picking the manager who performed the best (Got the best position) with his team<center><h5>"
   ]
  },
  {
   "attachments": {},
   "cell_type": "markdown",
   "metadata": {},
   "source": [
    "<h4>Reading Managers.csv file<h4>"
   ]
  },
  {
   "cell_type": "code",
   "execution_count": 39,
   "metadata": {},
   "outputs": [
    {
     "data": {
      "text/html": [
       "<div>\n",
       "<style scoped>\n",
       "    .dataframe tbody tr th:only-of-type {\n",
       "        vertical-align: middle;\n",
       "    }\n",
       "\n",
       "    .dataframe tbody tr th {\n",
       "        vertical-align: top;\n",
       "    }\n",
       "\n",
       "    .dataframe thead th {\n",
       "        text-align: right;\n",
       "    }\n",
       "</style>\n",
       "<table border=\"1\" class=\"dataframe\">\n",
       "  <thead>\n",
       "    <tr style=\"text-align: right;\">\n",
       "      <th></th>\n",
       "      <th>Year</th>\n",
       "      <th>Manager</th>\n",
       "      <th>Club</th>\n",
       "    </tr>\n",
       "  </thead>\n",
       "  <tbody>\n",
       "    <tr>\n",
       "      <th>0</th>\n",
       "      <td>2022</td>\n",
       "      <td>Mikel Arteta</td>\n",
       "      <td>Arsenal</td>\n",
       "    </tr>\n",
       "    <tr>\n",
       "      <th>1</th>\n",
       "      <td>2022</td>\n",
       "      <td>Unai Emery</td>\n",
       "      <td>Aston Villa</td>\n",
       "    </tr>\n",
       "    <tr>\n",
       "      <th>2</th>\n",
       "      <td>2022</td>\n",
       "      <td>Aaron Danks</td>\n",
       "      <td>Aston Villa</td>\n",
       "    </tr>\n",
       "    <tr>\n",
       "      <th>3</th>\n",
       "      <td>2022</td>\n",
       "      <td>Steven Gerrard</td>\n",
       "      <td>Aston Villa</td>\n",
       "    </tr>\n",
       "    <tr>\n",
       "      <th>4</th>\n",
       "      <td>2022</td>\n",
       "      <td>Gary O'Neil</td>\n",
       "      <td>Bournemouth</td>\n",
       "    </tr>\n",
       "  </tbody>\n",
       "</table>\n",
       "</div>"
      ],
      "text/plain": [
       "   Year         Manager         Club\n",
       "0  2022    Mikel Arteta      Arsenal\n",
       "1  2022      Unai Emery  Aston Villa\n",
       "2  2022     Aaron Danks  Aston Villa\n",
       "3  2022  Steven Gerrard  Aston Villa\n",
       "4  2022     Gary O'Neil  Bournemouth"
      ]
     },
     "execution_count": 39,
     "metadata": {},
     "output_type": "execute_result"
    }
   ],
   "source": [
    "df = pd.read_csv( \"Managers.csv\" )\n",
    "df.head()"
   ]
  },
  {
   "attachments": {},
   "cell_type": "markdown",
   "metadata": {},
   "source": [
    "<h4>Getting the promoted teams and their managers in the last 5 seasons<h4>"
   ]
  },
  {
   "cell_type": "code",
   "execution_count": 40,
   "metadata": {},
   "outputs": [],
   "source": [
    "promotedTeams = {}\n",
    "years = [ 2017,  2018 ,  2019 ,  2020 ,  2021]\n",
    "\n",
    "\n",
    "for year in years:\n",
    "    promotedTeams.update({year: []})\n",
    "    for _, thisYear in df[df[\"Year\"] == year ].iterrows():\n",
    "        teamExist = False\n",
    "        for _,previousYear in df[df[\"Year\"] == year-1].iterrows():\n",
    "            if(thisYear[\"Club\"] == previousYear[\"Club\"]):\n",
    "                teamExist = True\n",
    "                break\n",
    "        if(not teamExist):\n",
    "            promotedTeams[year].append({\"Club\":thisYear[\"Club\"], \"Manager\": thisYear[\"Manager\"]})\n",
    "           "
   ]
  },
  {
   "attachments": {},
   "cell_type": "markdown",
   "metadata": {},
   "source": [
    "<h4>Getting the managers who performed the best with their promoted teams<h4>"
   ]
  },
  {
   "cell_type": "code",
   "execution_count": 41,
   "metadata": {},
   "outputs": [
    {
     "data": {
      "text/html": [
       "<div>\n",
       "<style scoped>\n",
       "    .dataframe tbody tr th:only-of-type {\n",
       "        vertical-align: middle;\n",
       "    }\n",
       "\n",
       "    .dataframe tbody tr th {\n",
       "        vertical-align: top;\n",
       "    }\n",
       "\n",
       "    .dataframe thead th {\n",
       "        text-align: right;\n",
       "    }\n",
       "</style>\n",
       "<table border=\"1\" class=\"dataframe\">\n",
       "  <thead>\n",
       "    <tr style=\"text-align: right;\">\n",
       "      <th></th>\n",
       "      <th>Manager</th>\n",
       "      <th>Position</th>\n",
       "    </tr>\n",
       "  </thead>\n",
       "  <tbody>\n",
       "    <tr>\n",
       "      <th>7</th>\n",
       "      <td>Nuno Espírito Santo</td>\n",
       "      <td>7</td>\n",
       "    </tr>\n",
       "    <tr>\n",
       "      <th>11</th>\n",
       "      <td>Marcelo Bielsa</td>\n",
       "      <td>9</td>\n",
       "    </tr>\n",
       "    <tr>\n",
       "      <th>10</th>\n",
       "      <td>Chris Wilder</td>\n",
       "      <td>9</td>\n",
       "    </tr>\n",
       "    <tr>\n",
       "      <th>2</th>\n",
       "      <td>Rafael Benítez</td>\n",
       "      <td>10</td>\n",
       "    </tr>\n",
       "    <tr>\n",
       "      <th>14</th>\n",
       "      <td>Thomas Frank</td>\n",
       "      <td>13</td>\n",
       "    </tr>\n",
       "    <tr>\n",
       "      <th>0</th>\n",
       "      <td>Chris Hughton</td>\n",
       "      <td>15</td>\n",
       "    </tr>\n",
       "    <tr>\n",
       "      <th>1</th>\n",
       "      <td>David Wagner</td>\n",
       "      <td>16</td>\n",
       "    </tr>\n",
       "    <tr>\n",
       "      <th>3</th>\n",
       "      <td>Neil Warnock</td>\n",
       "      <td>18</td>\n",
       "    </tr>\n",
       "    <tr>\n",
       "      <th>13</th>\n",
       "      <td>Slaven Bilic</td>\n",
       "      <td>19</td>\n",
       "    </tr>\n",
       "    <tr>\n",
       "      <th>12</th>\n",
       "      <td>Sam Allardyce</td>\n",
       "      <td>19</td>\n",
       "    </tr>\n",
       "    <tr>\n",
       "      <th>16</th>\n",
       "      <td>Francisco Javier Muñoz Llompart</td>\n",
       "      <td>19</td>\n",
       "    </tr>\n",
       "    <tr>\n",
       "      <th>15</th>\n",
       "      <td>Roy Hodgson</td>\n",
       "      <td>19</td>\n",
       "    </tr>\n",
       "    <tr>\n",
       "      <th>6</th>\n",
       "      <td>Slavisa Jokanovic</td>\n",
       "      <td>19</td>\n",
       "    </tr>\n",
       "    <tr>\n",
       "      <th>5</th>\n",
       "      <td>Claudio Ranieri</td>\n",
       "      <td>19</td>\n",
       "    </tr>\n",
       "    <tr>\n",
       "      <th>4</th>\n",
       "      <td>Scott Parker</td>\n",
       "      <td>19</td>\n",
       "    </tr>\n",
       "    <tr>\n",
       "      <th>9</th>\n",
       "      <td>Daniel Farke</td>\n",
       "      <td>20</td>\n",
       "    </tr>\n",
       "    <tr>\n",
       "      <th>8</th>\n",
       "      <td>Dean Smith</td>\n",
       "      <td>20</td>\n",
       "    </tr>\n",
       "  </tbody>\n",
       "</table>\n",
       "</div>"
      ],
      "text/plain": [
       "                            Manager  Position\n",
       "7               Nuno Espírito Santo         7\n",
       "11                   Marcelo Bielsa         9\n",
       "10                     Chris Wilder         9\n",
       "2                    Rafael Benítez        10\n",
       "14                     Thomas Frank        13\n",
       "0                     Chris Hughton        15\n",
       "1                      David Wagner        16\n",
       "3                      Neil Warnock        18\n",
       "13                     Slaven Bilic        19\n",
       "12                    Sam Allardyce        19\n",
       "16  Francisco Javier Muñoz Llompart        19\n",
       "15                      Roy Hodgson        19\n",
       "6                 Slavisa Jokanovic        19\n",
       "5                   Claudio Ranieri        19\n",
       "4                      Scott Parker        19\n",
       "9                      Daniel Farke        20\n",
       "8                        Dean Smith        20"
      ]
     },
     "metadata": {},
     "output_type": "display_data"
    }
   ],
   "source": [
    "managerRanking = {}\n",
    "\n",
    "df = pd.read_csv(\"EPL Standings 2000-2022.csv\")\n",
    "\n",
    "for year in promotedTeams:\n",
    "    for manager in promotedTeams[year]:\n",
    "        teams = df[(df[\"Season\"].str.slice(stop=4) == str(year))]\n",
    "        position = teams.loc[teams[\"Team\"] == manager[\"Club\"], [\"Pos\"]]\n",
    "\n",
    "        if manager[\"Manager\"] in managerRanking:\n",
    "            if(managerRanking[manager[\"Manager\"]] < (position.values[0]).item(0)):\n",
    "                managerRanking[manager[\"Manager\"]] = (position.values[0]).item(0)\n",
    "\n",
    "        else:  managerRanking[manager[\"Manager\"]] = (position.values[0]).item(0)\n",
    "\n",
    "\n",
    "managers = pd.DataFrame(managerRanking.items(), columns=[\"Manager\", \"Position\"])\n",
    "\n",
    "managers = managers.sort_values(by=\"Position\")\n",
    "\n",
    "display(managers)"
   ]
  },
  {
   "attachments": {},
   "cell_type": "markdown",
   "metadata": {},
   "source": [
    "<h4>The manager (Nuno Espírito Santo) performed the best with Wolverhampton Wanderers in 2018/19 as the team won the 7th position in this year.<h4>\n",
    "<h4>So it is expected that this manager well perform well with Brentford.<h4>"
   ]
  }
 ],
 "metadata": {
  "kernelspec": {
   "display_name": "Python 3",
   "language": "python",
   "name": "python3"
  },
  "language_info": {
   "codemirror_mode": {
    "name": "ipython",
    "version": 3
   },
   "file_extension": ".py",
   "mimetype": "text/x-python",
   "name": "python",
   "nbconvert_exporter": "python",
   "pygments_lexer": "ipython3",
   "version": "3.10.6"
  },
  "orig_nbformat": 4,
  "vscode": {
   "interpreter": {
    "hash": "e7370f93d1d0cde622a1f8e1c04877d8463912d04d973331ad4851f04de6915a"
   }
  }
 },
 "nbformat": 4,
 "nbformat_minor": 2
}
