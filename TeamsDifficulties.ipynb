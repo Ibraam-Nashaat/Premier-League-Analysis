{
 "cells": [
  {
   "cell_type": "code",
   "execution_count": 1018,
   "metadata": {},
   "outputs": [],
   "source": [
    "import numpy as np\n",
    "import pandas as pd\n",
    "import matplotlib.pyplot as plt\n",
    "import seaborn as sns"
   ]
  },
  {
   "cell_type": "code",
   "execution_count": 1019,
   "metadata": {},
   "outputs": [
    {
     "data": {
      "text/html": [
       "<div>\n",
       "<style scoped>\n",
       "    .dataframe tbody tr th:only-of-type {\n",
       "        vertical-align: middle;\n",
       "    }\n",
       "\n",
       "    .dataframe tbody tr th {\n",
       "        vertical-align: top;\n",
       "    }\n",
       "\n",
       "    .dataframe thead th {\n",
       "        text-align: right;\n",
       "    }\n",
       "</style>\n",
       "<table border=\"1\" class=\"dataframe\">\n",
       "  <thead>\n",
       "    <tr style=\"text-align: right;\">\n",
       "      <th></th>\n",
       "      <th>Season_End_Year</th>\n",
       "      <th>Wk</th>\n",
       "      <th>Date</th>\n",
       "      <th>Home</th>\n",
       "      <th>HomeGoals</th>\n",
       "      <th>AwayGoals</th>\n",
       "      <th>Away</th>\n",
       "      <th>FTR</th>\n",
       "    </tr>\n",
       "  </thead>\n",
       "  <tbody>\n",
       "    <tr>\n",
       "      <th>0</th>\n",
       "      <td>1993</td>\n",
       "      <td>1</td>\n",
       "      <td>1992-08-15</td>\n",
       "      <td>Coventry City</td>\n",
       "      <td>2</td>\n",
       "      <td>1</td>\n",
       "      <td>Middlesbrough</td>\n",
       "      <td>H</td>\n",
       "    </tr>\n",
       "    <tr>\n",
       "      <th>1</th>\n",
       "      <td>1993</td>\n",
       "      <td>1</td>\n",
       "      <td>1992-08-15</td>\n",
       "      <td>Leeds United</td>\n",
       "      <td>2</td>\n",
       "      <td>1</td>\n",
       "      <td>Wimbledon</td>\n",
       "      <td>H</td>\n",
       "    </tr>\n",
       "    <tr>\n",
       "      <th>2</th>\n",
       "      <td>1993</td>\n",
       "      <td>1</td>\n",
       "      <td>1992-08-15</td>\n",
       "      <td>Sheffield Utd</td>\n",
       "      <td>2</td>\n",
       "      <td>1</td>\n",
       "      <td>Manchester Utd</td>\n",
       "      <td>H</td>\n",
       "    </tr>\n",
       "    <tr>\n",
       "      <th>3</th>\n",
       "      <td>1993</td>\n",
       "      <td>1</td>\n",
       "      <td>1992-08-15</td>\n",
       "      <td>Crystal Palace</td>\n",
       "      <td>3</td>\n",
       "      <td>3</td>\n",
       "      <td>Blackburn</td>\n",
       "      <td>D</td>\n",
       "    </tr>\n",
       "    <tr>\n",
       "      <th>4</th>\n",
       "      <td>1993</td>\n",
       "      <td>1</td>\n",
       "      <td>1992-08-15</td>\n",
       "      <td>Arsenal</td>\n",
       "      <td>2</td>\n",
       "      <td>4</td>\n",
       "      <td>Norwich City</td>\n",
       "      <td>A</td>\n",
       "    </tr>\n",
       "  </tbody>\n",
       "</table>\n",
       "</div>"
      ],
      "text/plain": [
       "   Season_End_Year  Wk        Date            Home  HomeGoals  AwayGoals  \\\n",
       "0             1993   1  1992-08-15   Coventry City          2          1   \n",
       "1             1993   1  1992-08-15    Leeds United          2          1   \n",
       "2             1993   1  1992-08-15   Sheffield Utd          2          1   \n",
       "3             1993   1  1992-08-15  Crystal Palace          3          3   \n",
       "4             1993   1  1992-08-15         Arsenal          2          4   \n",
       "\n",
       "             Away FTR  \n",
       "0   Middlesbrough   H  \n",
       "1       Wimbledon   H  \n",
       "2  Manchester Utd   H  \n",
       "3       Blackburn   D  \n",
       "4    Norwich City   A  "
      ]
     },
     "execution_count": 1019,
     "metadata": {},
     "output_type": "execute_result"
    }
   ],
   "source": [
    "df = pd.read_csv(\"./eplmatches.csv\")\n",
    "df.head()"
   ]
  },
  {
   "cell_type": "code",
   "execution_count": 1020,
   "metadata": {},
   "outputs": [
    {
     "data": {
      "text/plain": [
       "array(['Fulham', 'West Brom', 'Sheffield Utd'], dtype=object)"
      ]
     },
     "execution_count": 1020,
     "metadata": {},
     "output_type": "execute_result"
    }
   ],
   "source": [
    "season_2022 = df[df[\"Season_End_Year\"] == 2022][\"Home\"].unique()\n",
    "regulated_teams = df[df[\"Season_End_Year\"] == 2021][\"Home\"][~df[\"Home\"].isin(season_2022)].unique()\n",
    "regulated_teams"
   ]
  },
  {
   "cell_type": "code",
   "execution_count": 1021,
   "metadata": {},
   "outputs": [],
   "source": [
    "season_2021 = df[df[\"Season_End_Year\"] == 2021]\n",
    "season_2021_names = df[df[\"Season_End_Year\"] == 2021][\"Home\"].unique()"
   ]
  },
  {
   "cell_type": "code",
   "execution_count": 1022,
   "metadata": {},
   "outputs": [
    {
     "data": {
      "text/plain": [
       "array(['Brentford', 'Watford', 'Norwich City'], dtype=object)"
      ]
     },
     "execution_count": 1022,
     "metadata": {},
     "output_type": "execute_result"
    }
   ],
   "source": [
    "promoted_teams = df[df[\"Season_End_Year\"] == 2022][\"Home\"][~df[\"Home\"].isin(season_2021_names)].unique()\n",
    "promoted_teams"
   ]
  },
  {
   "cell_type": "code",
   "execution_count": null,
   "metadata": {},
   "outputs": [],
   "source": [
    "home = pd.DataFrame()\n",
    "away = pd.DataFrame()\n",
    "\n",
    "home[\"team\"] = season_2021[\"Home\"]\n",
    "away[\"team\"] = season_2021[\"Away\"]\n",
    "\n",
    "home[\"goals\"] = season_2021[\"HomeGoals\"]\n",
    "away[\"goals\"] = season_2021[\"AwayGoals\"]\n",
    "\n",
    "teams = home.append(away)\n",
    "tmp = {\n",
    "    \"team\": season_2021[\"Home\"],\n",
    "    \"goals\": season_2021[\"AwayGoals\"]*-1,\n",
    "}\n",
    "tmp = pd.DataFrame(tmp)\n",
    "\n",
    "teams = teams.append(tmp, ignore_index=True)\n",
    "\n",
    "tmp = {\n",
    "    \"team\": season_2021[\"Away\"],\n",
    "    \"goals\": season_2021[\"HomeGoals\"]*-1,\n",
    "}\n",
    "tmp = pd.DataFrame(tmp)\n",
    "\n",
    "teams = teams.append(tmp, ignore_index=True)\n",
    "\n",
    "teams"
   ]
  },
  {
   "cell_type": "code",
   "execution_count": 1024,
   "metadata": {},
   "outputs": [
    {
     "data": {
      "text/html": [
       "<div>\n",
       "<style scoped>\n",
       "    .dataframe tbody tr th:only-of-type {\n",
       "        vertical-align: middle;\n",
       "    }\n",
       "\n",
       "    .dataframe tbody tr th {\n",
       "        vertical-align: top;\n",
       "    }\n",
       "\n",
       "    .dataframe thead th {\n",
       "        text-align: right;\n",
       "    }\n",
       "</style>\n",
       "<table border=\"1\" class=\"dataframe\">\n",
       "  <thead>\n",
       "    <tr style=\"text-align: right;\">\n",
       "      <th></th>\n",
       "      <th>goals</th>\n",
       "    </tr>\n",
       "    <tr>\n",
       "      <th>team</th>\n",
       "      <th></th>\n",
       "    </tr>\n",
       "  </thead>\n",
       "  <tbody>\n",
       "    <tr>\n",
       "      <th>Arsenal</th>\n",
       "      <td>16</td>\n",
       "    </tr>\n",
       "    <tr>\n",
       "      <th>Aston Villa</th>\n",
       "      <td>9</td>\n",
       "    </tr>\n",
       "    <tr>\n",
       "      <th>Brighton</th>\n",
       "      <td>-6</td>\n",
       "    </tr>\n",
       "    <tr>\n",
       "      <th>Burnley</th>\n",
       "      <td>-22</td>\n",
       "    </tr>\n",
       "    <tr>\n",
       "      <th>Chelsea</th>\n",
       "      <td>22</td>\n",
       "    </tr>\n",
       "    <tr>\n",
       "      <th>Crystal Palace</th>\n",
       "      <td>-25</td>\n",
       "    </tr>\n",
       "    <tr>\n",
       "      <th>Everton</th>\n",
       "      <td>-1</td>\n",
       "    </tr>\n",
       "    <tr>\n",
       "      <th>Fulham</th>\n",
       "      <td>-26</td>\n",
       "    </tr>\n",
       "    <tr>\n",
       "      <th>Leeds United</th>\n",
       "      <td>8</td>\n",
       "    </tr>\n",
       "    <tr>\n",
       "      <th>Leicester City</th>\n",
       "      <td>18</td>\n",
       "    </tr>\n",
       "    <tr>\n",
       "      <th>Liverpool</th>\n",
       "      <td>26</td>\n",
       "    </tr>\n",
       "    <tr>\n",
       "      <th>Manchester City</th>\n",
       "      <td>51</td>\n",
       "    </tr>\n",
       "    <tr>\n",
       "      <th>Manchester Utd</th>\n",
       "      <td>29</td>\n",
       "    </tr>\n",
       "    <tr>\n",
       "      <th>Newcastle Utd</th>\n",
       "      <td>-16</td>\n",
       "    </tr>\n",
       "    <tr>\n",
       "      <th>Sheffield Utd</th>\n",
       "      <td>-43</td>\n",
       "    </tr>\n",
       "    <tr>\n",
       "      <th>Southampton</th>\n",
       "      <td>-21</td>\n",
       "    </tr>\n",
       "    <tr>\n",
       "      <th>Tottenham</th>\n",
       "      <td>23</td>\n",
       "    </tr>\n",
       "    <tr>\n",
       "      <th>West Brom</th>\n",
       "      <td>-41</td>\n",
       "    </tr>\n",
       "    <tr>\n",
       "      <th>West Ham</th>\n",
       "      <td>15</td>\n",
       "    </tr>\n",
       "    <tr>\n",
       "      <th>Wolves</th>\n",
       "      <td>-16</td>\n",
       "    </tr>\n",
       "  </tbody>\n",
       "</table>\n",
       "</div>"
      ],
      "text/plain": [
       "                 goals\n",
       "team                  \n",
       "Arsenal             16\n",
       "Aston Villa          9\n",
       "Brighton            -6\n",
       "Burnley            -22\n",
       "Chelsea             22\n",
       "Crystal Palace     -25\n",
       "Everton             -1\n",
       "Fulham             -26\n",
       "Leeds United         8\n",
       "Leicester City      18\n",
       "Liverpool           26\n",
       "Manchester City     51\n",
       "Manchester Utd      29\n",
       "Newcastle Utd      -16\n",
       "Sheffield Utd      -43\n",
       "Southampton        -21\n",
       "Tottenham           23\n",
       "West Brom          -41\n",
       "West Ham            15\n",
       "Wolves             -16"
      ]
     },
     "execution_count": 1024,
     "metadata": {},
     "output_type": "execute_result"
    }
   ],
   "source": [
    "teams_goals = teams.groupby(\"team\").sum()\n",
    "teams_goals"
   ]
  },
  {
   "cell_type": "code",
   "execution_count": 1025,
   "metadata": {},
   "outputs": [
    {
     "data": {
      "text/plain": [
       "<AxesSubplot:xlabel='team'>"
      ]
     },
     "execution_count": 1025,
     "metadata": {},
     "output_type": "execute_result"
    },
    {
     "data": {
      "image/png": "[encoded data removed]",
      "text/plain": [
       "<Figure size 432x288 with 1 Axes>"
      ]
     },
     "metadata": {
      "needs_background": "light"
     },
     "output_type": "display_data"
    }
   ],
   "source": [
    "teams_goals.plot(kind=\"bar\")"
   ]
  },
  {
   "cell_type": "code",
   "execution_count": 1026,
   "metadata": {},
   "outputs": [
    {
     "data": {
      "text/plain": [
       "0.0"
      ]
     },
     "execution_count": 1026,
     "metadata": {},
     "output_type": "execute_result"
    }
   ],
   "source": [
    "np.floor(teams_goals[\"goals\"].mean())"
   ]
  },
  {
   "cell_type": "code",
   "execution_count": 1027,
   "metadata": {},
   "outputs": [
    {
     "data": {
      "text/plain": [
       "<AxesSubplot:xlabel='goals'>"
      ]
     },
     "execution_count": 1027,
     "metadata": {},
     "output_type": "execute_result"
    },
    {
     "data": {
      "image/png": "[encoded data removed]",
      "text/plain": [
       "<Figure size 432x288 with 1 Axes>"
      ]
     },
     "metadata": {
      "needs_background": "light"
     },
     "output_type": "display_data"
    }
   ],
   "source": [
    "sns.boxplot(x=teams_goals[\"goals\"])"
   ]
  },
  {
   "cell_type": "code",
   "execution_count": 1028,
   "metadata": {},
   "outputs": [
    {
     "data": {
      "text/plain": [
       "count    20.000000\n",
       "mean      0.000000\n",
       "std      25.532229\n",
       "min     -43.000000\n",
       "25%     -21.250000\n",
       "50%       3.500000\n",
       "75%      19.000000\n",
       "max      51.000000\n",
       "Name: goals, dtype: float64"
      ]
     },
     "execution_count": 1028,
     "metadata": {},
     "output_type": "execute_result"
    }
   ],
   "source": [
    "teams_goals[\"goals\"].describe()"
   ]
  },
  {
   "cell_type": "code",
   "execution_count": 1029,
   "metadata": {},
   "outputs": [],
   "source": [
    "quartiles = teams_goals[\"goals\"].quantile([0.25,0.5,0.75])"
   ]
  },
  {
   "cell_type": "code",
   "execution_count": null,
   "metadata": {},
   "outputs": [],
   "source": [
    "score = pd.DataFrame(columns=[\"Diff\"])\n",
    "\n",
    "for i in range(0, len(teams_goals)):\n",
    "    if teams_goals.iloc[i].goals < quartiles[0.25]:\n",
    "        score = score.append({\"Diff\": 1}, ignore_index=True)\n",
    "    elif teams_goals.iloc[i].goals < quartiles[0.5]:\n",
    "        score = score.append({\"Diff\": 2}, ignore_index=True)\n",
    "    elif teams_goals.iloc[i].goals < quartiles[0.75]:\n",
    "        score = score.append({\"Diff\": 3}, ignore_index=True)\n",
    "    else:\n",
    "        score = score.append({\"Diff\": 4}, ignore_index=True)"
   ]
  },
  {
   "cell_type": "code",
   "execution_count": 1031,
   "metadata": {},
   "outputs": [
    {
     "data": {
      "text/html": [
       "<div>\n",
       "<style scoped>\n",
       "    .dataframe tbody tr th:only-of-type {\n",
       "        vertical-align: middle;\n",
       "    }\n",
       "\n",
       "    .dataframe tbody tr th {\n",
       "        vertical-align: top;\n",
       "    }\n",
       "\n",
       "    .dataframe thead th {\n",
       "        text-align: right;\n",
       "    }\n",
       "</style>\n",
       "<table border=\"1\" class=\"dataframe\">\n",
       "  <thead>\n",
       "    <tr style=\"text-align: right;\">\n",
       "      <th></th>\n",
       "      <th>goals</th>\n",
       "      <th>Diff</th>\n",
       "    </tr>\n",
       "    <tr>\n",
       "      <th>team</th>\n",
       "      <th></th>\n",
       "      <th></th>\n",
       "    </tr>\n",
       "  </thead>\n",
       "  <tbody>\n",
       "    <tr>\n",
       "      <th>Arsenal</th>\n",
       "      <td>16</td>\n",
       "      <td>3</td>\n",
       "    </tr>\n",
       "    <tr>\n",
       "      <th>Aston Villa</th>\n",
       "      <td>9</td>\n",
       "      <td>3</td>\n",
       "    </tr>\n",
       "    <tr>\n",
       "      <th>Brighton</th>\n",
       "      <td>-6</td>\n",
       "      <td>2</td>\n",
       "    </tr>\n",
       "    <tr>\n",
       "      <th>Burnley</th>\n",
       "      <td>-22</td>\n",
       "      <td>1</td>\n",
       "    </tr>\n",
       "    <tr>\n",
       "      <th>Chelsea</th>\n",
       "      <td>22</td>\n",
       "      <td>4</td>\n",
       "    </tr>\n",
       "    <tr>\n",
       "      <th>Crystal Palace</th>\n",
       "      <td>-25</td>\n",
       "      <td>1</td>\n",
       "    </tr>\n",
       "    <tr>\n",
       "      <th>Everton</th>\n",
       "      <td>-1</td>\n",
       "      <td>2</td>\n",
       "    </tr>\n",
       "    <tr>\n",
       "      <th>Fulham</th>\n",
       "      <td>-26</td>\n",
       "      <td>1</td>\n",
       "    </tr>\n",
       "    <tr>\n",
       "      <th>Leeds United</th>\n",
       "      <td>8</td>\n",
       "      <td>3</td>\n",
       "    </tr>\n",
       "    <tr>\n",
       "      <th>Leicester City</th>\n",
       "      <td>18</td>\n",
       "      <td>3</td>\n",
       "    </tr>\n",
       "    <tr>\n",
       "      <th>Liverpool</th>\n",
       "      <td>26</td>\n",
       "      <td>4</td>\n",
       "    </tr>\n",
       "    <tr>\n",
       "      <th>Manchester City</th>\n",
       "      <td>51</td>\n",
       "      <td>4</td>\n",
       "    </tr>\n",
       "    <tr>\n",
       "      <th>Manchester Utd</th>\n",
       "      <td>29</td>\n",
       "      <td>4</td>\n",
       "    </tr>\n",
       "    <tr>\n",
       "      <th>Newcastle Utd</th>\n",
       "      <td>-16</td>\n",
       "      <td>2</td>\n",
       "    </tr>\n",
       "    <tr>\n",
       "      <th>Sheffield Utd</th>\n",
       "      <td>-43</td>\n",
       "      <td>1</td>\n",
       "    </tr>\n",
       "    <tr>\n",
       "      <th>Southampton</th>\n",
       "      <td>-21</td>\n",
       "      <td>2</td>\n",
       "    </tr>\n",
       "    <tr>\n",
       "      <th>Tottenham</th>\n",
       "      <td>23</td>\n",
       "      <td>4</td>\n",
       "    </tr>\n",
       "    <tr>\n",
       "      <th>West Brom</th>\n",
       "      <td>-41</td>\n",
       "      <td>1</td>\n",
       "    </tr>\n",
       "    <tr>\n",
       "      <th>West Ham</th>\n",
       "      <td>15</td>\n",
       "      <td>3</td>\n",
       "    </tr>\n",
       "    <tr>\n",
       "      <th>Wolves</th>\n",
       "      <td>-16</td>\n",
       "      <td>2</td>\n",
       "    </tr>\n",
       "  </tbody>\n",
       "</table>\n",
       "</div>"
      ],
      "text/plain": [
       "                 goals Diff\n",
       "team                       \n",
       "Arsenal             16    3\n",
       "Aston Villa          9    3\n",
       "Brighton            -6    2\n",
       "Burnley            -22    1\n",
       "Chelsea             22    4\n",
       "Crystal Palace     -25    1\n",
       "Everton             -1    2\n",
       "Fulham             -26    1\n",
       "Leeds United         8    3\n",
       "Leicester City      18    3\n",
       "Liverpool           26    4\n",
       "Manchester City     51    4\n",
       "Manchester Utd      29    4\n",
       "Newcastle Utd      -16    2\n",
       "Sheffield Utd      -43    1\n",
       "Southampton        -21    2\n",
       "Tottenham           23    4\n",
       "West Brom          -41    1\n",
       "West Ham            15    3\n",
       "Wolves             -16    2"
      ]
     },
     "execution_count": 1031,
     "metadata": {},
     "output_type": "execute_result"
    }
   ],
   "source": [
    "teams_goals[\"Diff\"] = score[\"Diff\"].values\n",
    "teams_goals"
   ]
  },
  {
   "cell_type": "code",
   "execution_count": 1032,
   "metadata": {},
   "outputs": [
    {
     "data": {
      "text/plain": [
       "<AxesSubplot:xlabel='team', ylabel='Diff'>"
      ]
     },
     "execution_count": 1032,
     "metadata": {},
     "output_type": "execute_result"
    },
    {
     "data": {
      "image/png": "[encoded data removed]",
      "text/plain": [
       "<Figure size 864x360 with 1 Axes>"
      ]
     },
     "metadata": {
      "needs_background": "light"
     },
     "output_type": "display_data"
    }
   ],
   "source": [
    "plt.figure(figsize=(12, 5))\n",
    "plt.xticks(rotation=90)\n",
    "sns.barplot(x=teams_goals.index, y=teams_goals[\"Diff\"])"
   ]
  },
  {
   "cell_type": "code",
   "execution_count": 1033,
   "metadata": {},
   "outputs": [
    {
     "data": {
      "text/plain": [
       "2"
      ]
     },
     "execution_count": 1033,
     "metadata": {},
     "output_type": "execute_result"
    }
   ],
   "source": [
    "teams_goals[teams_goals.index == \"Wolves\"][\"Diff\"][0]"
   ]
  },
  {
   "cell_type": "code",
   "execution_count": null,
   "metadata": {},
   "outputs": [],
   "source": [
    "brentford_schedule_home = pd.DataFrame(columns=[\"Week\", \"Team\", \"IsHome\", \"Diff\", \"RW\", \"RD\", \"RL\", \"PBW\", \"PBD\", \"PBL\"])\n",
    "brentford_schedule_away = pd.DataFrame(columns=[\"Week\", \"Team\", \"IsHome\", \"Diff\", \"RW\", \"RD\", \"RL\", \"PBW\", \"PBD\", \"PBL\"])\n",
    "\n",
    "brentford_schedule_home[\"Week\"] = df[df[\"Season_End_Year\"] == 2022][df[\"Home\"] == \"Brentford\"][\"Wk\"]\n",
    "brentford_schedule_home[\"Team\"] = df[df[\"Season_End_Year\"] == 2022][df[\"Home\"] == \"Brentford\"][\"Away\"]\n",
    "brentford_schedule_home[\"IsHome\"] = \"Home\"\n",
    "\n",
    "brentford_schedule_away[\"Week\"] = df[df[\"Season_End_Year\"] == 2022][df[\"Away\"] == \"Brentford\"][\"Wk\"]\n",
    "brentford_schedule_away[\"Team\"] = df[df[\"Season_End_Year\"] == 2022][df[\"Away\"] == \"Brentford\"][\"Home\"]\n",
    "brentford_schedule_away[\"IsHome\"] = \"Away\"\n",
    "\n",
    "brentford_schedule_home"
   ]
  },
  {
   "cell_type": "code",
   "execution_count": 1035,
   "metadata": {},
   "outputs": [],
   "source": [
    "brentford_schedule_home.reset_index(inplace = True, drop = True)\n",
    "brentford_schedule_away.reset_index(inplace = True, drop = True)"
   ]
  },
  {
   "cell_type": "code",
   "execution_count": null,
   "metadata": {},
   "outputs": [],
   "source": [
    "for i in range(0, len(brentford_schedule_home)):\n",
    "    if brentford_schedule_home.iloc[i][\"Team\"] not in promoted_teams:\n",
    "        brentford_schedule_home.at[i, 'Diff'] = int(teams_goals[teams_goals.index == brentford_schedule_home.iloc[i][\"Team\"]][\"Diff\"][0])\n",
    "\n",
    "for i in range(0, len(brentford_schedule_away)):\n",
    "    if brentford_schedule_away.iloc[i][\"Team\"] not in promoted_teams:\n",
    "        brentford_schedule_away.at[i, 'Diff'] = int(teams_goals[teams_goals.index == brentford_schedule_away.iloc[i][\"Team\"]][\"Diff\"][0])\n",
    "        # To Be multiplicated by home/away factor (away is harder)\n",
    "        \n",
    "brentford_schedule = brentford_schedule_home.append(brentford_schedule_away).sort_values(\"Week\")\n",
    "missing = brentford_schedule['Diff'].isnull()\n",
    "brentford_schedule.loc[missing, \"Diff\"] = 0.5\n",
    "brentford_schedule"
   ]
  },
  {
   "cell_type": "code",
   "execution_count": 1037,
   "metadata": {},
   "outputs": [
    {
     "data": {
      "text/plain": [
       "<AxesSubplot:xlabel='Week', ylabel='Diff'>"
      ]
     },
     "execution_count": 1037,
     "metadata": {},
     "output_type": "execute_result"
    },
    {
     "data": {
      "image/png": "[encoded data removed]",
      "text/plain": [
       "<Figure size 864x360 with 1 Axes>"
      ]
     },
     "metadata": {
      "needs_background": "light"
     },
     "output_type": "display_data"
    }
   ],
   "source": [
    "plt.figure(figsize=(12, 5))\n",
    "plt.xticks(rotation=90)\n",
    "sns.barplot(x=\"Week\", y=\"Diff\", hue=\"IsHome\", data=brentford_schedule)"
   ]
  },
  {
   "cell_type": "code",
   "execution_count": 1038,
   "metadata": {},
   "outputs": [
    {
     "data": {
      "text/plain": [
       "array(['Fulham', 'West Brom', 'Sheffield Utd'], dtype=object)"
      ]
     },
     "execution_count": 1038,
     "metadata": {},
     "output_type": "execute_result"
    }
   ],
   "source": [
    "regulated_teams"
   ]
  },
  {
   "cell_type": "code",
   "execution_count": 1039,
   "metadata": {},
   "outputs": [
    {
     "data": {
      "text/html": [
       "<div>\n",
       "<style scoped>\n",
       "    .dataframe tbody tr th:only-of-type {\n",
       "        vertical-align: middle;\n",
       "    }\n",
       "\n",
       "    .dataframe tbody tr th {\n",
       "        vertical-align: top;\n",
       "    }\n",
       "\n",
       "    .dataframe thead th {\n",
       "        text-align: right;\n",
       "    }\n",
       "</style>\n",
       "<table border=\"1\" class=\"dataframe\">\n",
       "  <thead>\n",
       "    <tr style=\"text-align: right;\">\n",
       "      <th></th>\n",
       "      <th>Season_End_Year</th>\n",
       "      <th>Wk</th>\n",
       "      <th>Date</th>\n",
       "      <th>Home</th>\n",
       "      <th>HomeGoals</th>\n",
       "      <th>AwayGoals</th>\n",
       "      <th>Away</th>\n",
       "      <th>FTR</th>\n",
       "    </tr>\n",
       "  </thead>\n",
       "  <tbody>\n",
       "    <tr>\n",
       "      <th>10886</th>\n",
       "      <td>2021</td>\n",
       "      <td>1</td>\n",
       "      <td>2020-09-12</td>\n",
       "      <td>Fulham</td>\n",
       "      <td>0</td>\n",
       "      <td>3</td>\n",
       "      <td>Arsenal</td>\n",
       "      <td>A</td>\n",
       "    </tr>\n",
       "    <tr>\n",
       "      <th>10890</th>\n",
       "      <td>2021</td>\n",
       "      <td>1</td>\n",
       "      <td>2020-09-13</td>\n",
       "      <td>West Brom</td>\n",
       "      <td>0</td>\n",
       "      <td>3</td>\n",
       "      <td>Leicester City</td>\n",
       "      <td>A</td>\n",
       "    </tr>\n",
       "    <tr>\n",
       "      <th>10892</th>\n",
       "      <td>2021</td>\n",
       "      <td>1</td>\n",
       "      <td>2020-09-14</td>\n",
       "      <td>Sheffield Utd</td>\n",
       "      <td>0</td>\n",
       "      <td>2</td>\n",
       "      <td>Wolves</td>\n",
       "      <td>A</td>\n",
       "    </tr>\n",
       "    <tr>\n",
       "      <th>11004</th>\n",
       "      <td>2021</td>\n",
       "      <td>2</td>\n",
       "      <td>2020-09-21</td>\n",
       "      <td>Aston Villa</td>\n",
       "      <td>1</td>\n",
       "      <td>0</td>\n",
       "      <td>Sheffield Utd</td>\n",
       "      <td>H</td>\n",
       "    </tr>\n",
       "    <tr>\n",
       "      <th>10997</th>\n",
       "      <td>2021</td>\n",
       "      <td>2</td>\n",
       "      <td>2020-09-19</td>\n",
       "      <td>Leeds United</td>\n",
       "      <td>4</td>\n",
       "      <td>3</td>\n",
       "      <td>Fulham</td>\n",
       "      <td>H</td>\n",
       "    </tr>\n",
       "    <tr>\n",
       "      <th>...</th>\n",
       "      <td>...</td>\n",
       "      <td>...</td>\n",
       "      <td>...</td>\n",
       "      <td>...</td>\n",
       "      <td>...</td>\n",
       "      <td>...</td>\n",
       "      <td>...</td>\n",
       "      <td>...</td>\n",
       "    </tr>\n",
       "    <tr>\n",
       "      <th>11186</th>\n",
       "      <td>2021</td>\n",
       "      <td>37</td>\n",
       "      <td>2021-05-18</td>\n",
       "      <td>Manchester Utd</td>\n",
       "      <td>1</td>\n",
       "      <td>1</td>\n",
       "      <td>Fulham</td>\n",
       "      <td>D</td>\n",
       "    </tr>\n",
       "    <tr>\n",
       "      <th>11192</th>\n",
       "      <td>2021</td>\n",
       "      <td>37</td>\n",
       "      <td>2021-05-19</td>\n",
       "      <td>Newcastle Utd</td>\n",
       "      <td>1</td>\n",
       "      <td>0</td>\n",
       "      <td>Sheffield Utd</td>\n",
       "      <td>H</td>\n",
       "    </tr>\n",
       "    <tr>\n",
       "      <th>11203</th>\n",
       "      <td>2021</td>\n",
       "      <td>38</td>\n",
       "      <td>2021-05-23</td>\n",
       "      <td>Fulham</td>\n",
       "      <td>0</td>\n",
       "      <td>2</td>\n",
       "      <td>Newcastle Utd</td>\n",
       "      <td>A</td>\n",
       "    </tr>\n",
       "    <tr>\n",
       "      <th>11199</th>\n",
       "      <td>2021</td>\n",
       "      <td>38</td>\n",
       "      <td>2021-05-23</td>\n",
       "      <td>Sheffield Utd</td>\n",
       "      <td>1</td>\n",
       "      <td>0</td>\n",
       "      <td>Burnley</td>\n",
       "      <td>H</td>\n",
       "    </tr>\n",
       "    <tr>\n",
       "      <th>11202</th>\n",
       "      <td>2021</td>\n",
       "      <td>38</td>\n",
       "      <td>2021-05-23</td>\n",
       "      <td>Leeds United</td>\n",
       "      <td>3</td>\n",
       "      <td>1</td>\n",
       "      <td>West Brom</td>\n",
       "      <td>H</td>\n",
       "    </tr>\n",
       "  </tbody>\n",
       "</table>\n",
       "<p>108 rows × 8 columns</p>\n",
       "</div>"
      ],
      "text/plain": [
       "       Season_End_Year  Wk        Date            Home  HomeGoals  AwayGoals  \\\n",
       "10886             2021   1  2020-09-12          Fulham          0          3   \n",
       "10890             2021   1  2020-09-13       West Brom          0          3   \n",
       "10892             2021   1  2020-09-14   Sheffield Utd          0          2   \n",
       "11004             2021   2  2020-09-21     Aston Villa          1          0   \n",
       "10997             2021   2  2020-09-19    Leeds United          4          3   \n",
       "...                ...  ..         ...             ...        ...        ...   \n",
       "11186             2021  37  2021-05-18  Manchester Utd          1          1   \n",
       "11192             2021  37  2021-05-19   Newcastle Utd          1          0   \n",
       "11203             2021  38  2021-05-23          Fulham          0          2   \n",
       "11199             2021  38  2021-05-23   Sheffield Utd          1          0   \n",
       "11202             2021  38  2021-05-23    Leeds United          3          1   \n",
       "\n",
       "                 Away FTR  \n",
       "10886         Arsenal   A  \n",
       "10890  Leicester City   A  \n",
       "10892          Wolves   A  \n",
       "11004   Sheffield Utd   H  \n",
       "10997          Fulham   H  \n",
       "...               ...  ..  \n",
       "11186          Fulham   D  \n",
       "11192   Sheffield Utd   H  \n",
       "11203   Newcastle Utd   A  \n",
       "11199         Burnley   H  \n",
       "11202       West Brom   H  \n",
       "\n",
       "[108 rows x 8 columns]"
      ]
     },
     "execution_count": 1039,
     "metadata": {},
     "output_type": "execute_result"
    }
   ],
   "source": [
    "regulated_matches = season_2021[(season_2021[\"Home\"].isin(regulated_teams)) | (season_2021[\"Away\"].isin(regulated_teams))].sort_values(\"Wk\")\n",
    "regulated_matches"
   ]
  },
  {
   "cell_type": "code",
   "execution_count": null,
   "metadata": {},
   "outputs": [],
   "source": [
    "regulated_matches[regulated_matches[\"Home\"] == \"Arsenal\"][regulated_matches[\"FTR\"] == 'H'].count()[\"Wk\"]"
   ]
  },
  {
   "cell_type": "code",
   "execution_count": null,
   "metadata": {},
   "outputs": [],
   "source": [
    "brentford_schedule"
   ]
  },
  {
   "cell_type": "code",
   "execution_count": 1042,
   "metadata": {},
   "outputs": [],
   "source": [
    "brentford_schedule.reset_index(inplace = True, drop = True)"
   ]
  },
  {
   "cell_type": "code",
   "execution_count": null,
   "metadata": {},
   "outputs": [],
   "source": [
    "for i in range(0, len(brentford_schedule)):\n",
    "    if brentford_schedule.iloc[i][\"Team\"] not in promoted_teams:\n",
    "        rl1 = regulated_matches[regulated_matches[\"Home\"] == brentford_schedule.iloc[i][\"Team\"]][regulated_matches[\"FTR\"] == 'H'].count()[\"Wk\"]\n",
    "        rl2 = regulated_matches[regulated_matches[\"Away\"] == brentford_schedule.iloc[i][\"Team\"]][regulated_matches[\"FTR\"] == 'A'].count()[\"Wk\"]\n",
    "        brentford_schedule.at[i, 'RL'] = rl1+rl2\n",
    "        brentford_schedule.at[i, 'PBL'] = (rl1+rl2)/6\n",
    "\n",
    "        rw1 = regulated_matches[regulated_matches[\"Home\"] == brentford_schedule.iloc[i][\"Team\"]][regulated_matches[\"FTR\"] == 'A'].count()[\"Wk\"]\n",
    "        rw2 = regulated_matches[regulated_matches[\"Away\"] == brentford_schedule.iloc[i][\"Team\"]][regulated_matches[\"FTR\"] == 'H'].count()[\"Wk\"]\n",
    "        brentford_schedule.at[i, 'RW'] = rw1+rw2\n",
    "        brentford_schedule.at[i, 'PBW'] = (rw1+rw2)/6\n",
    "\n",
    "        rd1 = regulated_matches[regulated_matches[\"Home\"] == brentford_schedule.iloc[i][\"Team\"]][regulated_matches[\"FTR\"] == 'D'].count()[\"Wk\"]\n",
    "        rd2 = regulated_matches[regulated_matches[\"Away\"] == brentford_schedule.iloc[i][\"Team\"]][regulated_matches[\"FTR\"] == 'D'].count()[\"Wk\"]\n",
    "        brentford_schedule.at[i, 'RD'] = rd1+rd2\n",
    "        brentford_schedule.at[i, 'PBD'] = (rd1+rd2)/6\n",
    "\n",
    "missing = brentford_schedule['PBL'].isnull()\n",
    "brentford_schedule.loc[missing, \"PBL\"] = 0.5\n",
    "\n",
    "missing = brentford_schedule['PBW'].isnull()\n",
    "brentford_schedule.loc[missing, \"PBW\"] = 0.5\n",
    "\n",
    "missing = brentford_schedule['PBD'].isnull()\n",
    "brentford_schedule.loc[missing, \"PBD\"] = 0\n",
    "brentford_schedule"
   ]
  },
  {
   "cell_type": "code",
   "execution_count": 1044,
   "metadata": {},
   "outputs": [
    {
     "data": {
      "text/plain": [
       "<AxesSubplot:xlabel='Week', ylabel='PBW'>"
      ]
     },
     "execution_count": 1044,
     "metadata": {},
     "output_type": "execute_result"
    },
    {
     "data": {
      "image/png": "[encoded data removed]",
      "text/plain": [
       "<Figure size 864x360 with 1 Axes>"
      ]
     },
     "metadata": {
      "needs_background": "light"
     },
     "output_type": "display_data"
    }
   ],
   "source": [
    "plt.figure(figsize=(12, 5))\n",
    "plt.xticks(rotation=90)\n",
    "sns.barplot(x=\"Week\", y=\"PBW\", hue=\"IsHome\", data=brentford_schedule)"
   ]
  },
  {
   "cell_type": "code",
   "execution_count": 1045,
   "metadata": {},
   "outputs": [
    {
     "data": {
      "text/plain": [
       "<AxesSubplot:xlabel='Week', ylabel='PBD'>"
      ]
     },
     "execution_count": 1045,
     "metadata": {},
     "output_type": "execute_result"
    },
    {
     "data": {
      "image/png": "[encoded data removed]",
      "text/plain": [
       "<Figure size 864x360 with 1 Axes>"
      ]
     },
     "metadata": {
      "needs_background": "light"
     },
     "output_type": "display_data"
    }
   ],
   "source": [
    "plt.figure(figsize=(12, 5))\n",
    "plt.xticks(rotation=90)\n",
    "sns.barplot(x=\"Week\", y=\"PBD\", hue=\"IsHome\", data=brentford_schedule)"
   ]
  },
  {
   "cell_type": "code",
   "execution_count": 1046,
   "metadata": {},
   "outputs": [
    {
     "data": {
      "text/plain": [
       "<AxesSubplot:xlabel='Week', ylabel='PBL'>"
      ]
     },
     "execution_count": 1046,
     "metadata": {},
     "output_type": "execute_result"
    },
    {
     "data": {
      "image/png": "[encoded data removed]",
      "text/plain": [
       "<Figure size 864x360 with 1 Axes>"
      ]
     },
     "metadata": {
      "needs_background": "light"
     },
     "output_type": "display_data"
    }
   ],
   "source": [
    "plt.figure(figsize=(12, 5))\n",
    "plt.xticks(rotation=90)\n",
    "sns.barplot(x=\"Week\", y=\"PBL\", hue=\"IsHome\", data=brentford_schedule)"
   ]
  }
 ],
 "metadata": {
  "kernelspec": {
   "display_name": "Python 3",
   "language": "python",
   "name": "python3"
  },
  "language_info": {
   "codemirror_mode": {
    "name": "ipython",
    "version": 3
   },
   "file_extension": ".py",
   "mimetype": "text/x-python",
   "name": "python",
   "nbconvert_exporter": "python",
   "pygments_lexer": "ipython3",
   "version": "3.9.7"
  },
  "orig_nbformat": 4,
  "vscode": {
   "interpreter": {
    "hash": "5179d32cf6ec497baf3f8a3ef987cc77c5d2dc691fdde20a56316522f61a7323"
   }
  }
 },
 "nbformat": 4,
 "nbformat_minor": 2
}
